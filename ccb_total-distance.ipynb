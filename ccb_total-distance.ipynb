{
 "metadata": {
  "language_info": {
   "codemirror_mode": {
    "name": "ipython",
    "version": 3
   },
   "file_extension": ".py",
   "mimetype": "text/x-python",
   "name": "python",
   "nbconvert_exporter": "python",
   "pygments_lexer": "ipython3",
   "version": "3.8.8-final"
  },
  "orig_nbformat": 2,
  "kernelspec": {
   "name": "python3",
   "display_name": "Python 3.8.8 64-bit ('_env': venv)",
   "metadata": {
    "interpreter": {
     "hash": "f603b991512ebe354220e7708d8e01e533c3ff9027b66a3166e515dc6508805c"
    }
   }
  }
 },
 "nbformat": 4,
 "nbformat_minor": 2,
 "cells": [
  {
   "cell_type": "code",
   "execution_count": null,
   "metadata": {},
   "outputs": [],
   "source": [
    "from athletes import *\n",
    "from secrets import *\n",
    "from stravalib.client import Client     # library used for access\n",
    "from stravaio import strava_oauth2      # just for authentication to get token\n",
    "from stravaio import StravaIO\n",
    "from pprint import pprint\n",
    "import numpy as np\n",
    "import pandas as pd\n",
    "import requests"
   ]
  },
  {
   "cell_type": "code",
   "execution_count": null,
   "metadata": {},
   "outputs": [],
   "source": [
    "from secrets import *\n",
    "from athletes import *\n",
    "from clubs import *"
   ]
  },
  {
   "cell_type": "code",
   "execution_count": null,
   "metadata": {},
   "outputs": [],
   "source": [
    "# get authentification\n",
    "auth = strava_oauth2(client_id=STRAVA_CLIENT_ID, client_secret=STRAVA_CLIENT_SECRET)\n",
    "access_token = auth['access_token']"
   ]
  },
  {
   "cell_type": "code",
   "execution_count": null,
   "metadata": {},
   "outputs": [],
   "source": [
    "# urls\n",
    "athlete_url = \"https://www.strava.com/api/v3/athlete\"\n",
    "activities_url = \"https://www.strava.com/api/v3/athlete/activities\"\n",
    "clubs_url = \"https://www.strava.com/api/v3/clubs\"\n",
    "\n",
    "# request header\n",
    "header = {'Authorization':'Bearer ' + access_token}\n",
    "param = {'per_page':200, 'page':1}\n"
   ]
  },
  {
   "cell_type": "code",
   "execution_count": null,
   "metadata": {},
   "outputs": [],
   "source": [
    "# get athlete\n",
    "athlete = requests.get(athlete_url, headers=header, params=param).json()"
   ]
  },
  {
   "cell_type": "code",
   "execution_count": null,
   "metadata": {},
   "outputs": [],
   "source": [
    "# get clubs the athlete is member of\n",
    "clubs = requests.get(clubs_url, headers=header, params=param).json()"
   ]
  },
  {
   "cell_type": "code",
   "execution_count": null,
   "metadata": {},
   "outputs": [],
   "source": [
    "request_url = clubs_url + \"/\" + CLUB_CCB + \"/activities\"\n",
    "ccb_activities = requests.get(request_url, headers=header, params = param).json()"
   ]
  },
  {
   "cell_type": "code",
   "execution_count": null,
   "metadata": {},
   "outputs": [],
   "source": [
    "# get athletes from list of activities\n",
    "athletes = list()\n",
    "athlete_names = list()\n",
    "for activity in ccb_activities:\n",
    "    if activity['athlete']['firstname'] not in athlete_names:\n",
    "        athletes.append(activity['athlete'])\n",
    "        athlete_names.append(activity['athlete']['firstname'])\n",
    "\n",
    "athletes_df = pd.DataFrame.from_records(athletes)\n",
    "print(athletes_df)"
   ]
  },
  {
   "cell_type": "code",
   "execution_count": null,
   "metadata": {},
   "outputs": [],
   "source": [
    "# prepare empty lists for distances\n",
    "distance = list()\n",
    "for athlete in athlete_names:\n",
    "    distance.append(list())\n",
    "\n",
    "for activity in ccb_activities:\n",
    "    current_athlete = athlete_names.index(activity['athlete']['firstname'])\n",
    "    distance[current_athlete].append(activity['distance'])\n",
    "\n",
    "# determine total distance for each athlete\n",
    "total_distance = list()\n",
    "print('Total distance of each club member:')\n",
    "for idx, athlete in enumerate(athlete_names):\n",
    "    distance_athlete = sum(distance[idx])\n",
    "    total_distance.append(distance_athlete)\n",
    "    print('\\t' + athlete + ': ', \"{:.2f}\".format(distance_athlete/1000), 'km')\n",
    "\n",
    "# determine highest distance and the athlete with it\n",
    "max_distance = max(total_distance)\n",
    "max_athlete = athlete_names[total_distance.index(max_distance)]\n",
    "print('=> The athlete with the most ridden km so far is ', max_athlete, ', with a total of ', \"{:.2f}\".format(max_distance/1000), 'km!')"
   ]
  }
 ]
}